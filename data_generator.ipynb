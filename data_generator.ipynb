{
 "cells": [
  {
   "cell_type": "code",
   "execution_count": 1,
   "metadata": {},
   "outputs": [],
   "source": [
    "import datetime as dt\n",
    "import json\n",
    "import random\n",
    "from pathlib import Path\n",
    "from typing import List"
   ]
  },
  {
   "cell_type": "code",
   "execution_count": 2,
   "metadata": {},
   "outputs": [],
   "source": [
    "n_days = 2\n",
    "n_runs = [3, 2]\n",
    "random.seed(0)"
   ]
  },
  {
   "cell_type": "code",
   "execution_count": 3,
   "metadata": {},
   "outputs": [],
   "source": [
    "day_folders = [Path('example_dataset', f'ED-{i + 1}') for i in range(n_days)]"
   ]
  },
  {
   "cell_type": "code",
   "execution_count": 4,
   "metadata": {},
   "outputs": [
    {
     "data": {
      "text/plain": [
       "[WindowsPath('example_dataset/ED-1/RUN001'),\n",
       " WindowsPath('example_dataset/ED-1/RUN002'),\n",
       " WindowsPath('example_dataset/ED-1/RUN003'),\n",
       " WindowsPath('example_dataset/ED-2/RUN004'),\n",
       " WindowsPath('example_dataset/ED-2/RUN005')]"
      ]
     },
     "execution_count": 4,
     "metadata": {},
     "output_type": "execute_result"
    }
   ],
   "source": [
    "run_folders: List[Path] = []\n",
    "total_runs = sum(n_runs)\n",
    "day_idx = 0\n",
    "day_runs = 0\n",
    "for run_idx in range(total_runs):\n",
    "    if day_runs >= n_runs[day_idx]:\n",
    "        day_runs = 0\n",
    "        day_idx += 1\n",
    "    day_folder = day_folders[day_idx]\n",
    "    run_folder = day_folder.joinpath(f'RUN{run_idx + 1:03d}')\n",
    "    run_folders.append(run_folder)\n",
    "    day_runs += 1\n",
    "run_folders"
   ]
  },
  {
   "cell_type": "code",
   "execution_count": 5,
   "metadata": {},
   "outputs": [],
   "source": [
    "current_tz = dt.datetime.now().astimezone().tzinfo\n",
    "for run in run_folders:\n",
    "    n_lines = random.randint(0, 1024)\n",
    "    creation_time = dt.datetime.now()\n",
    "    with open(run.joinpath('data.txt'), 'w', encoding='ascii') as handle:\n",
    "        for line_idx in range(n_lines):\n",
    "            handle.write(f'{random.randint(0, 1024)}\\n')\n",
    "    # atime = dt.datetime.fromtimestamp(run.joinpath('data.txt').lstat().st_atime, tz=current_tz)\n",
    "    atime = dt.datetime(2023, 2, 11, 1, 14, 12, 12345, dt.timezone.utc)\n",
    "    with open(run.joinpath('metadata.json'), 'w', encoding='ascii') as handle:\n",
    "        metadata = {\n",
    "            'timestamp': atime.isoformat(),\n",
    "            'device': \"data_generator.ipynb\",\n",
    "            'notes': \"Randomly generated data\",\n",
    "            'properties': {},\n",
    "            'country': 'USA',\n",
    "            'region': 'California',\n",
    "            'site': 'San Diego',\n",
    "            'mission': run.name\n",
    "        }\n",
    "        json.dump(metadata, handle, indent=4)"
   ]
  },
  {
   "cell_type": "code",
   "execution_count": null,
   "metadata": {},
   "outputs": [],
   "source": []
  },
  {
   "cell_type": "code",
   "execution_count": null,
   "metadata": {},
   "outputs": [],
   "source": []
  }
 ],
 "metadata": {
  "kernelspec": {
   "display_name": ".venv",
   "language": "python",
   "name": "python3"
  },
  "language_info": {
   "codemirror_mode": {
    "name": "ipython",
    "version": 3
   },
   "file_extension": ".py",
   "mimetype": "text/x-python",
   "name": "python",
   "nbconvert_exporter": "python",
   "pygments_lexer": "ipython3",
   "version": "3.9.12"
  },
  "orig_nbformat": 4,
  "vscode": {
   "interpreter": {
    "hash": "2488faf1e9f4c34cae4a88f7adce9c53dd125ab23fc43c14ff79fa8db727e84a"
   }
  }
 },
 "nbformat": 4,
 "nbformat_minor": 2
}
